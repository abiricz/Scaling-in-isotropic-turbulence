{
 "cells": [
  {
   "cell_type": "markdown",
   "metadata": {},
   "source": [
    "# Analysis of Forced Isotropic Flow"
   ]
  },
  {
   "cell_type": "code",
   "execution_count": 3,
   "metadata": {},
   "outputs": [
    {
     "name": "stdout",
     "output_type": "stream",
     "text": [
      "Populating the interactive namespace from numpy and matplotlib\n"
     ]
    }
   ],
   "source": [
    "%pylab inline"
   ]
  },
  {
   "cell_type": "code",
   "execution_count": 4,
   "metadata": {},
   "outputs": [],
   "source": [
    "import pandas as pd\n",
    "import itertools\n",
    "import copy\n",
    "import numpy as np\n",
    "import matplotlib.pyplot as plt\n",
    "from scipy.optimize import curve_fit"
   ]
  },
  {
   "cell_type": "markdown",
   "metadata": {},
   "source": [
    "### Loading the data"
   ]
  },
  {
   "cell_type": "code",
   "execution_count": 7,
   "metadata": {},
   "outputs": [
    {
     "name": "stdout",
     "output_type": "stream",
     "text": [
      "CPU times: user 21min 39s, sys: 12.9 s, total: 21min 52s\n",
      "Wall time: 21min 54s\n"
     ]
    }
   ],
   "source": [
    "%%time\n",
    "cols = arange(15)\n",
    "f = open('data/Iso_turb_box512adjacent.csv', 'r')\n",
    "colstuple = np.loadtxt(f, delimiter=',', usecols=cols, unpack=True )"
   ]
  },
  {
   "cell_type": "code",
   "execution_count": 8,
   "metadata": {},
   "outputs": [
    {
     "data": {
      "text/plain": [
       "(15, 134217728)"
      ]
     },
     "execution_count": 8,
     "metadata": {},
     "output_type": "execute_result"
    }
   ],
   "source": [
    "colstuple.shape"
   ]
  },
  {
   "cell_type": "markdown",
   "metadata": {},
   "source": [
    "#### Unpacking after loading"
   ]
  },
  {
   "cell_type": "code",
   "execution_count": 9,
   "metadata": {},
   "outputs": [],
   "source": [
    "x = colstuple[0]\n",
    "y = colstuple[1]\n",
    "z = colstuple[2]\n",
    "v_x = colstuple[3]\n",
    "v_y = colstuple[4]\n",
    "v_z = colstuple[5]\n",
    "d_ux_dx = colstuple[6]\n",
    "d_ux_dy = colstuple[7]\n",
    "d_ux_dz = colstuple[8]\n",
    "d_uy_dx = colstuple[9]\n",
    "d_uy_dy = colstuple[10]\n",
    "d_uy_dz = colstuple[11]\n",
    "d_uz_dx = colstuple[12]\n",
    "d_uz_dy = colstuple[13]\n",
    "d_uz_dz = colstuple[14]"
   ]
  },
  {
   "cell_type": "code",
   "execution_count": 10,
   "metadata": {
    "scrolled": true
   },
   "outputs": [],
   "source": [
    "def packing_to_3d(array_1d, L):\n",
    "    array_3d = empty( (L, L, L), dtype=float )\n",
    "    for i in range(L):\n",
    "        for j in range(L):\n",
    "            for k in range(L):\n",
    "                array_3d[i,j,k] = array_1d[ k + L*( j + L*i ) ]\n",
    "    return array_3d"
   ]
  },
  {
   "cell_type": "code",
   "execution_count": 11,
   "metadata": {},
   "outputs": [],
   "source": [
    "xnodes = unique( x )\n",
    "ynodes = unique( y )\n",
    "znodes = unique( z )"
   ]
  },
  {
   "cell_type": "code",
   "execution_count": 12,
   "metadata": {},
   "outputs": [
    {
     "data": {
      "text/plain": [
       "array([0.        , 0.04908739, 0.09817477, 0.14726216, 0.19634955,\n",
       "       0.24543694, 0.2945243 , 0.34361172, 0.3926991 , 0.44178647,\n",
       "       0.49087387, 0.5399613 , 0.5890486 , 0.638136  , 0.68722343,\n",
       "       0.7363108 , 0.7853982 , 0.8344856 , 0.88357294, 0.93266034,\n",
       "       0.98174775, 1.0308352 , 1.0799226 , 1.1290098 , 1.1780972 ,\n",
       "       1.2271847 , 1.276272  , 1.3253595 , 1.3744469 , 1.4235342 ,\n",
       "       1.4726216 , 1.521709  , 1.5707964 , 1.6198838 , 1.6689712 ,\n",
       "       1.7180586 , 1.7671459 , 1.8162333 , 1.8653207 , 1.9144081 ,\n",
       "       1.9634955 , 2.0125828 , 2.0616703 , 2.1107576 , 2.159845  ,\n",
       "       2.2089324 , 2.2580197 , 2.3071072 , 2.3561945 , 2.405282  ,\n",
       "       2.4543693 , 2.5034568 , 2.552544  , 2.6016314 , 2.650719  ,\n",
       "       2.6998062 , 2.7488937 , 2.797981  , 2.8470683 , 2.8961558 ,\n",
       "       2.9452431 , 2.9943306 , 3.043418  , 3.0925055 ])"
      ]
     },
     "execution_count": 12,
     "metadata": {},
     "output_type": "execute_result"
    }
   ],
   "source": [
    "xnodes[::8]"
   ]
  },
  {
   "cell_type": "code",
   "execution_count": 13,
   "metadata": {},
   "outputs": [
    {
     "data": {
      "text/plain": [
       "512"
      ]
     },
     "execution_count": 13,
     "metadata": {},
     "output_type": "execute_result"
    }
   ],
   "source": [
    "L = xnodes.shape[0]\n",
    "L"
   ]
  },
  {
   "cell_type": "code",
   "execution_count": 14,
   "metadata": {},
   "outputs": [],
   "source": [
    "X, Y, Z = meshgrid(xnodes, ynodes, znodes, indexing = 'ij')"
   ]
  },
  {
   "cell_type": "markdown",
   "metadata": {},
   "source": [
    "#### All points in a flattened array"
   ]
  },
  {
   "cell_type": "code",
   "execution_count": 15,
   "metadata": {},
   "outputs": [
    {
     "name": "stdout",
     "output_type": "stream",
     "text": [
      "CPU times: user 55.3 s, sys: 4.63 s, total: 59.9 s\n",
      "Wall time: 59.7 s\n"
     ]
    }
   ],
   "source": [
    "%%time\n",
    "points = np.array(list(itertools.product(xnodes, ynodes, znodes ) ) ) "
   ]
  },
  {
   "cell_type": "markdown",
   "metadata": {},
   "source": [
    "### Calculating and saving important quantities"
   ]
  },
  {
   "cell_type": "markdown",
   "metadata": {},
   "source": [
    "#### Rotation of the velocity field (angular speed)"
   ]
  },
  {
   "cell_type": "markdown",
   "metadata": {},
   "source": [
    "$\\omega = \\nabla \\times u$"
   ]
  },
  {
   "cell_type": "markdown",
   "metadata": {},
   "source": [
    "#### Enstrophy: $S = \\frac{1}{2} \\omega^2$"
   ]
  },
  {
   "cell_type": "code",
   "execution_count": 16,
   "metadata": {},
   "outputs": [
    {
     "name": "stdout",
     "output_type": "stream",
     "text": [
      "CPU times: user 43.8 s, sys: 1.52 s, total: 45.3 s\n",
      "Wall time: 45.4 s\n"
     ]
    }
   ],
   "source": [
    "%%time\n",
    "Enstrophy = packing_to_3d( 0.5*( ( d_uz_dy - d_uy_dz )**2 + \n",
    "                                 ( d_ux_dz - d_uz_dx )**2 + \n",
    "                                 ( d_uy_dx - d_ux_dy )**2 ), L )"
   ]
  },
  {
   "cell_type": "markdown",
   "metadata": {},
   "source": [
    "#### Energy: $E = \\frac{1}{2}v^2$"
   ]
  },
  {
   "cell_type": "code",
   "execution_count": 17,
   "metadata": {},
   "outputs": [
    {
     "name": "stdout",
     "output_type": "stream",
     "text": [
      "CPU times: user 42.3 s, sys: 1.39 s, total: 43.7 s\n",
      "Wall time: 43.7 s\n"
     ]
    }
   ],
   "source": [
    "%%time\n",
    "Energy = packing_to_3d( 0.5*( v_x**2 + v_y**2 + v_z**2 ), L )"
   ]
  },
  {
   "cell_type": "markdown",
   "metadata": {},
   "source": [
    "#### Dissipation: \n",
    "\n",
    "$S^2 = S_{ij} S_{ij}$, where $S_{ij} = \\frac{1}{2} (\\nabla u + \\nabla u^T)_{ij}$\n",
    "\n",
    "Q, R are other two scalar invariants of the velocity gradient tensor"
   ]
  },
  {
   "cell_type": "markdown",
   "metadata": {},
   "source": [
    "#### This is calculated by a 3x3 matrix at each node (!)"
   ]
  },
  {
   "cell_type": "code",
   "execution_count": 18,
   "metadata": {},
   "outputs": [
    {
     "data": {
      "text/plain": [
       "(134217728, 9)"
      ]
     },
     "execution_count": 18,
     "metadata": {},
     "output_type": "execute_result"
    }
   ],
   "source": [
    "vel_grad_at_points = colstuple[6:].T\n",
    "vel_grad_at_points.shape"
   ]
  },
  {
   "cell_type": "code",
   "execution_count": 19,
   "metadata": {},
   "outputs": [
    {
     "name": "stdout",
     "output_type": "stream",
     "text": [
      "CPU times: user 19min 46s, sys: 1.66 s, total: 19min 48s\n",
      "Wall time: 19min 48s\n"
     ]
    }
   ],
   "source": [
    "%%time\n",
    "V_grad_matrix = empty( (3,3), dtype=float )\n",
    "S_ij = empty( (3,3), dtype=float )\n",
    "S_square = empty( x.shape[0], dtype=float )\n",
    "for k in range( x.shape[0] ):\n",
    "    V_grad_matrix[0,0] = vel_grad_at_points[k,0]\n",
    "    V_grad_matrix[0,1] = vel_grad_at_points[k,3]\n",
    "    V_grad_matrix[0,2] = vel_grad_at_points[k,6]\n",
    "    V_grad_matrix[1,0] = vel_grad_at_points[k,1]\n",
    "    V_grad_matrix[1,1] = vel_grad_at_points[k,4]\n",
    "    V_grad_matrix[1,2] = vel_grad_at_points[k,7]\n",
    "    V_grad_matrix[2,0] = vel_grad_at_points[k,2]\n",
    "    V_grad_matrix[2,1] = vel_grad_at_points[k,5]\n",
    "    V_grad_matrix[2,2] = vel_grad_at_points[k,8]\n",
    "\n",
    "    S_ij = 0.5*( V_grad_matrix + V_grad_matrix.T )\n",
    "    S_square[k] = sum( S_ij**2 )"
   ]
  },
  {
   "cell_type": "markdown",
   "metadata": {},
   "source": [
    "### Requesting data for excursion sets"
   ]
  },
  {
   "cell_type": "markdown",
   "metadata": {},
   "source": [
    "Excursion set indicator function for a scalar field $A(x)$:\n",
    "\n",
    "$ \\Theta^A_\\chi (x) = H(A(x)-\\chi) = \n",
    "\\begin{cases}\n",
    "1, ~if ~A(x) \\geq \\chi \\\\\n",
    "0, ~otherwise\n",
    "\\end{cases}$"
   ]
  },
  {
   "cell_type": "markdown",
   "metadata": {},
   "source": [
    "Excursion set for the enstrophy for the threshold $\\chi = 20 \\langle S^2 \\rangle$:"
   ]
  },
  {
   "cell_type": "markdown",
   "metadata": {},
   "source": [
    "$E_{\\chi} (x) = E (x) \\Theta^{E}_\\chi (x) = E (x) \\Theta^{E}_{20 \\langle S^2 \\rangle} (x) = \n",
    "\\begin{cases}\n",
    "E(x), ~if ~E(x) \\geq 20 \\langle S^2 \\rangle \\\\\n",
    "0, ~otherwise\n",
    "\\end{cases}$"
   ]
  },
  {
   "cell_type": "markdown",
   "metadata": {},
   "source": [
    "#### In theory: $\\langle S^2 \\rangle = \\frac{1}{2} \\langle \\omega^2 \\rangle$ for isotropic turbulent flow.\n",
    "Let's check:"
   ]
  },
  {
   "cell_type": "code",
   "execution_count": 20,
   "metadata": {},
   "outputs": [
    {
     "data": {
      "text/plain": [
       "(229.89721393126678, 229.53502837035703)"
      ]
     },
     "execution_count": 20,
     "metadata": {},
     "output_type": "execute_result"
    }
   ],
   "source": [
    "mean(S_square), mean(Enstrophy)"
   ]
  },
  {
   "cell_type": "code",
   "execution_count": 21,
   "metadata": {},
   "outputs": [
    {
     "name": "stdout",
     "output_type": "stream",
     "text": [
      "CPU times: user 34.5 s, sys: 312 ms, total: 34.8 s\n",
      "Wall time: 34.8 s\n"
     ]
    }
   ],
   "source": [
    "%%time\n",
    "S_square = packing_to_3d( S_square, L )"
   ]
  },
  {
   "cell_type": "code",
   "execution_count": 22,
   "metadata": {},
   "outputs": [
    {
     "data": {
      "text/plain": [
       "((512, 512, 512), (512, 512, 512), (512, 512, 512))"
      ]
     },
     "execution_count": 22,
     "metadata": {},
     "output_type": "execute_result"
    }
   ],
   "source": [
    "Energy.shape, Enstrophy.shape, S_square.shape"
   ]
  },
  {
   "cell_type": "code",
   "execution_count": 23,
   "metadata": {},
   "outputs": [],
   "source": [
    "mean_ens = mean(Enstrophy)"
   ]
  },
  {
   "cell_type": "code",
   "execution_count": 24,
   "metadata": {},
   "outputs": [],
   "source": [
    "mean_diss = mean(S_square)"
   ]
  },
  {
   "cell_type": "markdown",
   "metadata": {},
   "source": [
    "### Calculating correlation for excursion sets"
   ]
  },
  {
   "cell_type": "code",
   "execution_count": 25,
   "metadata": {},
   "outputs": [],
   "source": [
    "def cart2sph(x, y, z):\n",
    "    hxy = np.hypot(x, y)\n",
    "    r = np.hypot(hxy, z)\n",
    "    el = np.arctan2(z, hxy) # elevation - theta\n",
    "    az = np.arctan2(y, x) # azimuth - phi\n",
    "    return r, el, az"
   ]
  },
  {
   "cell_type": "code",
   "execution_count": 26,
   "metadata": {},
   "outputs": [],
   "source": [
    "kolm = 0.00280"
   ]
  },
  {
   "cell_type": "code",
   "execution_count": 27,
   "metadata": {},
   "outputs": [],
   "source": [
    "def simple_integrator(y, x):\n",
    "    no_points = len(x)\n",
    "    if (no_points == 1):\n",
    "        return y[0] * pi * 0.5\n",
    "    else:\n",
    "        differences = np.diff(x)\n",
    "        if (x[0] != 0):\n",
    "            differences = insert(differences, 0, x[0])\n",
    "            return ( np.sum(differences * y) )\n",
    "        else:\n",
    "            return ( np.sum(differences * y[:-1]) + (pi/2 - x[-1]) * y[-1] )"
   ]
  },
  {
   "cell_type": "code",
   "execution_count": 28,
   "metadata": {},
   "outputs": [],
   "source": [
    "def correl_angular_integrator_simple(interval_lower_index, interval_upper_index, \n",
    "                              points_sphere_r_sorted, func_val_r_sorted):\n",
    "    distance = mean( points_sphere_r_sorted[interval_lower_index : interval_upper_index, 0] )\n",
    "    surface = points_sphere_r_sorted[interval_lower_index : interval_upper_index, 1:]\n",
    "    values = func_val_r_sorted[interval_lower_index : interval_upper_index]\n",
    "    \n",
    "    surface_sort = lexsort( ( surface[:,1], surface[:,0] ) )\n",
    "    S = surface[ surface_sort ]\n",
    "    V = values[ surface_sort ]\n",
    "    \n",
    "    diff_theta = np.diff( S[:,0] )\n",
    "    bounds = argwhere( [ not i for i in isclose( diff_theta, 0, atol=1e-6 )  ] )\n",
    "    true_bounds = bounds.reshape( bounds.shape[0] )+1\n",
    "    true_bounds = insert( true_bounds, 0, 0 )\n",
    "    true_bounds = insert( true_bounds, true_bounds.shape[0], S.shape[0] )\n",
    "    theta_values = S[true_bounds[:-1],0] # theta \n",
    "    \n",
    "    phi_list = []\n",
    "    Cr_list = []\n",
    "    for i in range( true_bounds.shape[0]-1 ):\n",
    "        upper_limit = true_bounds[i+1]\n",
    "        lower_limit = true_bounds[i]\n",
    "\n",
    "        phi_list.append( S[lower_limit:upper_limit, 1] )\n",
    "        Cr_list.append( V[lower_limit:upper_limit] )\n",
    "        \n",
    "    phi_int = zeros( len(phi_list) )\n",
    "    for i in range( len(phi_list) ):\n",
    "        phi_int[i] = simple_integrator( Cr_list[i], phi_list[i] )\n",
    "        \n",
    "    integrand = np.sin( theta_values ) * phi_int\n",
    "    return (simple_integrator( integrand, theta_values ) ), (distance)"
   ]
  },
  {
   "cell_type": "code",
   "execution_count": 29,
   "metadata": {},
   "outputs": [],
   "source": [
    "def linfit( x, a, b ):\n",
    "    return a*x+b"
   ]
  },
  {
   "cell_type": "markdown",
   "metadata": {},
   "source": [
    "### Excursion sets for thresholds in mean(diss) units"
   ]
  },
  {
   "cell_type": "code",
   "execution_count": 30,
   "metadata": {},
   "outputs": [],
   "source": [
    "def excursion(quantity, limit, points):\n",
    "    threshold = limit * mean_diss\n",
    "    indices = argwhere( quantity > threshold )\n",
    "    theta = zeros( X.shape, dtype=int )\n",
    "    for i in range( indices.shape[0] ):\n",
    "        theta[ indices[i,0], indices[i,1], indices[i,2] ] = 1\n",
    "        \n",
    "    abs_theta_k = np.abs( fft.rfftn( theta, axes=(0,1,2), norm=\"ortho\" ) )**2\n",
    "    Cr = fft.irfftn( abs_theta_k, axes=(0,1,2), norm=\"ortho\" )\n",
    "    \n",
    "    Cr_points = Cr.flatten()\n",
    "    \n",
    "    points_sphere = empty( points.shape, dtype=float )\n",
    "    for i in range( points.shape[0] ):\n",
    "        points_sphere[i] = cart2sph( *points[i] )\n",
    "    \n",
    "    sort_idx = lexsort( (points_sphere[:,2], points_sphere[:,1], points_sphere[:,0]) )\n",
    "    points_sphere_r_sorted = points_sphere[ sort_idx ]\n",
    "    Cr_r_sorted = Cr_points[ sort_idx ]\n",
    "    \n",
    "    diff_between_radii = np.diff(points_sphere_r_sorted[:,0])\n",
    "    boundaries = argwhere( [ not i for i in isclose( diff_between_radii, 0, atol=1e-5 ) ] )\n",
    "    true_boundaries = boundaries.reshape( boundaries.shape[0] )+1\n",
    "    print('Boundaries:', true_boundaries.shape[0])\n",
    "    \n",
    "    correlation_normed = zeros(len(true_boundaries)-1)\n",
    "    r_values = zeros(len(true_boundaries)-1)\n",
    "    for i in range( true_boundaries.shape[0]-1 ):\n",
    "        upper_limit = true_boundaries[i+1]\n",
    "        lower_limit = true_boundaries[i]\n",
    "\n",
    "        correl, dist = correl_angular_integrator_simple(lower_limit, upper_limit, points_sphere_r_sorted, Cr_r_sorted)\n",
    "        correlation_normed[i] = correl/Cr[0,0,0]\n",
    "        r_values[i] = dist/kolm\n",
    "        \n",
    "    r_values = insert( r_values, 0, 0 )\n",
    "    correlation_normed = insert( correlation_normed, 0, 1 )\n",
    "    \n",
    "    filt = np.logical_and( r_values !=0, correlation_normed != 0 )\n",
    "    filt2 = np.logical_and( correlation_normed > 0, filt )\n",
    "    log_r_values = log10( r_values[ filt2 ] )\n",
    "    log_correlation_normed = log10( correlation_normed[ filt2 ] )\n",
    "    \n",
    "    return r_values, correlation_normed, log_r_values, log_correlation_normed"
   ]
  },
  {
   "cell_type": "code",
   "execution_count": 31,
   "metadata": {},
   "outputs": [],
   "source": [
    "def integrate_and_save( quantity, limits, filename, points ):\n",
    "    \"\"\"Excursion set can be S_square or Energy, limits is a list of thresholds\"\"\"\n",
    "    for n in limits:\n",
    "        print('Turn:', n)\n",
    "        r_values, correlation_normed, log_r_values, log_correlation_normed = excursion(quantity, n, points)\n",
    "        \n",
    "        file = open( filename+'_normal_'+str(n)+'.txt', 'w' ) # create file to write out\n",
    "        file.write(\"#r_values\\tcorrelation_normed\\n\")\n",
    "\n",
    "        for i in range( len(r_values) ):\n",
    "            file.write( \"%f %f\\n\" % (r_values[i], correlation_normed[i] ) )\n",
    "        file.close()\n",
    "        \n",
    "        file = open( filename+'_log_'+str(n)+'.txt', 'w' ) # create file to write out\n",
    "        file.write(\"#log_r_values\\tlog_correlation_normed\\n\")\n",
    "\n",
    "        for j in range( len(log_r_values) ):\n",
    "            file.write( \"%f %f\\n\" % (log_r_values[j], log_correlation_normed[j]) )\n",
    "        file.close()"
   ]
  },
  {
   "cell_type": "code",
   "execution_count": 32,
   "metadata": {},
   "outputs": [
    {
     "data": {
      "text/plain": [
       "((512, 512, 512), (512, 512, 512))"
      ]
     },
     "execution_count": 32,
     "metadata": {},
     "output_type": "execute_result"
    }
   ],
   "source": [
    "S_square.shape, Energy.shape"
   ]
  },
  {
   "cell_type": "code",
   "execution_count": 33,
   "metadata": {},
   "outputs": [],
   "source": [
    "a = [7, 10, 15, 20, 30, 50]"
   ]
  },
  {
   "cell_type": "code",
   "execution_count": 39,
   "metadata": {
    "scrolled": true
   },
   "outputs": [
    {
     "name": "stdout",
     "output_type": "stream",
     "text": [
      "Turn: 50\n",
      "Boundaries: 135444\n",
      "CPU times: user 37min 58s, sys: 11.9 s, total: 38min 10s\n",
      "Wall time: 38min 10s\n"
     ]
    }
   ],
   "source": [
    "%%time\n",
    "integrate_and_save( S_square, a[5:6], 'Dissipation', points )"
   ]
  },
  {
   "cell_type": "code",
   "execution_count": 41,
   "metadata": {},
   "outputs": [
    {
     "name": "stdout",
     "output_type": "stream",
     "text": [
      "Turn: 10\n",
      "Boundaries: 135444\n",
      "Turn: 15\n",
      "Boundaries: 135444\n",
      "Turn: 20\n",
      "Boundaries: 135444\n",
      "Turn: 30\n",
      "Boundaries: 135444\n",
      "Turn: 50\n",
      "Boundaries: 135444\n",
      "CPU times: user 2h 53min 29s, sys: 53.6 s, total: 2h 54min 23s\n",
      "Wall time: 2h 54min 25s\n"
     ]
    }
   ],
   "source": [
    "%%time\n",
    "integrate_and_save( Enstrophy, a[1:], 'Enstrophy', points )"
   ]
  },
  {
   "cell_type": "markdown",
   "metadata": {},
   "source": [
    "#### Code for creating plots with linear fit"
   ]
  },
  {
   "cell_type": "code",
   "execution_count": 222,
   "metadata": {},
   "outputs": [],
   "source": [
    "\"\"\"def final_corr_plot_and_fit( log_r_values, log_correlation_normed, lower, upper, rounding=4, t1=-3.5, t2=0, out=0.5, figname=\"\" ):\n",
    "    a = np.logical_and( log_r_values > lower, log_r_values < upper )\n",
    "    inliers_ind = log_correlation_normed > np.mean( log_correlation_normed ) + out*np.std( log_correlation_normed )\n",
    "    b = np.logical_and( a, inliers_ind )\n",
    "    \n",
    "    cutoff_idx = int(0.01*len(log_r_values))\n",
    "    \n",
    "    popt, pcov = curve_fit( linfit, log_r_values[b][:cutoff_idx], log_correlation_normed[b][:cutoff_idx] )\n",
    "    print(\"Decaying frequency exponent: %.3f +/- %.3f\" % (popt[0], np.sqrt(pcov[0,0])))\n",
    "    \n",
    "    exponent = popt[0]\n",
    "    error = np.sqrt(pcov[0,0])\n",
    "    \n",
    "    plt.figure( figsize=(8,3), dpi=100 )\n",
    "    #plt.loglog( r_values, correlation_normed, '.')\n",
    "    plt.tick_params( axis='both', which='major', labelsize=12 )\n",
    "    xlabel('$ \\log_{10} \\left( \\\\frac{r}{\\eta} \\\\right) $', fontsize=16)\n",
    "    ylabel('$ \\log_{10} C(r) $', fontsize=16)\n",
    "    plt.scatter( log_r_values[:cutoff_idx], log_correlation_normed[:cutoff_idx], s=10, marker='o' )\n",
    "    plt.plot( log_r_values[a], popt[0]*log_r_values[a]+popt[1], '-', c='r', \n",
    "             label='Exponent: '+str(round(popt[0], rounding) )+'+/-'+str( round( sqrt(pcov[0,0]) , rounding) ) )\n",
    "    plt.legend( fontsize=12 )\n",
    "    plt.ylim([t1, t2])\n",
    "    plt.subplots_adjust(bottom=0.25)\n",
    "    plt.title('$S^2$, $\\chi = '+figname[-2:]+'\\langle S^2 \\\\rangle$', fontsize = 18)\n",
    "    #plt.title('$\\\\frac{1}{2}\\omega^2$, $\\chi = '+figname[-2:]+'\\langle S^2 \\\\rangle$', fontsize = 18, pad=7)\n",
    "    plt.savefig( \"ens_\"+figname+\".png\", dpi=100 )\n",
    "\n",
    "    return exponent, error\"\"\""
   ]
  },
  {
   "cell_type": "code",
   "execution_count": 236,
   "metadata": {},
   "outputs": [
    {
     "name": "stdout",
     "output_type": "stream",
     "text": [
      "Decaying frequency exponent: -2.934 +/- 0.242\n"
     ]
    },
    {
     "data": {
      "image/png": "[encoded data removed]",
      "text/plain": [
       "<Figure size 800x300 with 1 Axes>"
      ]
     },
     "metadata": {},
     "output_type": "display_data"
    }
   ],
   "source": [
    "\"\"\"f1 = open('Dissipation_log_50.txt', 'r')\n",
    "log_r, log_corr = np.loadtxt(f1, delimiter=' ', usecols=(0, 1), unpack=True)\n",
    "exp, err = final_corr_plot_and_fit( log_r, log_corr, lower=0.3, upper=1.3, rounding=4, t1=-5, figname=\"small_50\" )\"\"\""
   ]
  },
  {
   "cell_type": "markdown",
   "metadata": {},
   "source": [
    "### Energy spectrum"
   ]
  },
  {
   "cell_type": "code",
   "execution_count": 42,
   "metadata": {},
   "outputs": [
    {
     "data": {
      "text/plain": [
       "(0.0061359233, 0.0061359233, 0.0061359233)"
      ]
     },
     "execution_count": 42,
     "metadata": {},
     "output_type": "execute_result"
    }
   ],
   "source": [
    "dx = xnodes[1]-xnodes[0]\n",
    "dy = ynodes[1]-ynodes[0]\n",
    "dz = znodes[1]-znodes[0]\n",
    "dx, dy, dz"
   ]
  },
  {
   "cell_type": "code",
   "execution_count": 43,
   "metadata": {},
   "outputs": [],
   "source": [
    "lx = L*dx\n",
    "ly = L*dy\n",
    "lz = L*dz"
   ]
  },
  {
   "cell_type": "code",
   "execution_count": 44,
   "metadata": {},
   "outputs": [],
   "source": [
    "dkx = 2*pi / lx\n",
    "dky = 2*pi / ly\n",
    "dkz = 2*pi / lz"
   ]
  },
  {
   "cell_type": "code",
   "execution_count": 45,
   "metadata": {},
   "outputs": [],
   "source": [
    "kx_max = pi / dx\n",
    "ky_max = pi / dy\n",
    "kz_max = pi / dz"
   ]
  },
  {
   "cell_type": "code",
   "execution_count": 46,
   "metadata": {},
   "outputs": [
    {
     "data": {
      "text/plain": [
       "(0.0061359233, 3.1415927296, 1.9999999516104006, 511.99998761226254)"
      ]
     },
     "execution_count": 46,
     "metadata": {},
     "output_type": "execute_result"
    }
   ],
   "source": [
    "dx, lx, dkx, kx_max"
   ]
  },
  {
   "cell_type": "code",
   "execution_count": 47,
   "metadata": {},
   "outputs": [
    {
     "data": {
      "text/plain": [
       "(512,)"
      ]
     },
     "execution_count": 47,
     "metadata": {},
     "output_type": "execute_result"
    }
   ],
   "source": [
    "kx = np.fft.fftfreq(L, d = dx)*2*pi\n",
    "kx.shape#, kx[:int(L/2)]"
   ]
  },
  {
   "cell_type": "code",
   "execution_count": 48,
   "metadata": {},
   "outputs": [],
   "source": [
    "ky = kx\n",
    "kz = kx"
   ]
  },
  {
   "cell_type": "code",
   "execution_count": 49,
   "metadata": {},
   "outputs": [
    {
     "name": "stdout",
     "output_type": "stream",
     "text": [
      "CPU times: user 10.1 s, sys: 2.79 s, total: 12.9 s\n",
      "Wall time: 12.9 s\n"
     ]
    }
   ],
   "source": [
    "%%time\n",
    "# perform 3 dimensional FFT:\n",
    "Energy_k = np.abs( np.fft.fftn( Energy-mean(Energy), axes=(0,1,2), norm=\"ortho\" ) )\n",
    "Energy_k.shape, Energy_k[0,0,0] # two sided spectrum in each direction"
   ]
  },
  {
   "cell_type": "markdown",
   "metadata": {},
   "source": [
    "#### Calculate the energy spectrum from the first half of the two-sided spectrum with k at zero"
   ]
  },
  {
   "cell_type": "markdown",
   "metadata": {},
   "source": [
    "##### Generating all points"
   ]
  },
  {
   "cell_type": "code",
   "execution_count": 50,
   "metadata": {},
   "outputs": [],
   "source": [
    "kx_new = kx[:int(L/2)]\n",
    "ky_new = ky[:int(L/2)]\n",
    "kz_new = kz[:int(L/2)]"
   ]
  },
  {
   "cell_type": "code",
   "execution_count": 51,
   "metadata": {},
   "outputs": [
    {
     "name": "stdout",
     "output_type": "stream",
     "text": [
      "CPU times: user 5.78 s, sys: 560 ms, total: 6.34 s\n",
      "Wall time: 6.77 s\n"
     ]
    }
   ],
   "source": [
    "%%time\n",
    "kpoints = np.array(list(itertools.product(kx_new, ky_new, kz_new ) ) ) "
   ]
  },
  {
   "cell_type": "markdown",
   "metadata": {},
   "source": [
    "##### Converting to spherical "
   ]
  },
  {
   "cell_type": "code",
   "execution_count": 52,
   "metadata": {},
   "outputs": [
    {
     "name": "stdout",
     "output_type": "stream",
     "text": [
      "CPU times: user 2min, sys: 120 ms, total: 2min\n",
      "Wall time: 2min\n"
     ]
    }
   ],
   "source": [
    "%%time\n",
    "kpoints_sphere = empty( kpoints.shape, dtype=float )\n",
    "for i in range( kpoints.shape[0] ):\n",
    "    kpoints_sphere[i] = cart2sph( *kpoints[i] )\n",
    "kpoints_sphere.shape"
   ]
  },
  {
   "cell_type": "code",
   "execution_count": 53,
   "metadata": {},
   "outputs": [
    {
     "data": {
      "text/plain": [
       "(256, 256, 256)"
      ]
     },
     "execution_count": 53,
     "metadata": {},
     "output_type": "execute_result"
    }
   ],
   "source": [
    "E_d_new = Energy_k[:int(L/2),:int(L/2),:int(L/2)] # speratating the first half of the spectrum\n",
    "E_d_new.shape"
   ]
  },
  {
   "cell_type": "code",
   "execution_count": 54,
   "metadata": {},
   "outputs": [
    {
     "name": "stdout",
     "output_type": "stream",
     "text": [
      "CPU times: user 5.15 s, sys: 164 ms, total: 5.32 s\n",
      "Wall time: 5.32 s\n"
     ]
    }
   ],
   "source": [
    "%%time\n",
    "# sorting indices for the coordinates, sort EVERY column, but radius is the primary\n",
    "ksort_idx = lexsort( (kpoints_sphere[:,2], kpoints_sphere[:,1], kpoints_sphere[:,0]) )\n",
    "ksort_idx"
   ]
  },
  {
   "cell_type": "code",
   "execution_count": 55,
   "metadata": {},
   "outputs": [],
   "source": [
    "E_d_points = E_d_new.flatten()\n",
    "kpoints_sphere_r_sorted = kpoints_sphere[ ksort_idx ]\n",
    "E_d_r_sorted = E_d_points[ ksort_idx ]"
   ]
  },
  {
   "cell_type": "code",
   "execution_count": 56,
   "metadata": {},
   "outputs": [
    {
     "data": {
      "text/plain": [
       "((16777216,), (16777216, 3))"
      ]
     },
     "execution_count": 56,
     "metadata": {},
     "output_type": "execute_result"
    }
   ],
   "source": [
    "E_d_r_sorted.shape, kpoints_sphere_r_sorted.shape"
   ]
  },
  {
   "cell_type": "code",
   "execution_count": 57,
   "metadata": {},
   "outputs": [
    {
     "data": {
      "text/plain": [
       "(139637, 1)"
      ]
     },
     "execution_count": 57,
     "metadata": {},
     "output_type": "execute_result"
    }
   ],
   "source": [
    "kdiff_between_radii = np.diff(kpoints_sphere_r_sorted[:,0])\n",
    "kboundaries = argwhere( [ not i for i in isclose( kdiff_between_radii, 0, atol=1e-5 ) ] )\n",
    "kboundaries.shape"
   ]
  },
  {
   "cell_type": "code",
   "execution_count": 58,
   "metadata": {},
   "outputs": [
    {
     "data": {
      "text/plain": [
       "array([ 1,  4,  7,  8, 11, 17, 20, 23, 29, 35])"
      ]
     },
     "execution_count": 58,
     "metadata": {},
     "output_type": "execute_result"
    }
   ],
   "source": [
    "ktrue_boundaries = kboundaries.reshape( kboundaries.shape[0] )+1\n",
    "ktrue_boundaries[:10]"
   ]
  },
  {
   "cell_type": "code",
   "execution_count": 59,
   "metadata": {},
   "outputs": [
    {
     "name": "stdout",
     "output_type": "stream",
     "text": [
      "CPU times: user 2min 40s, sys: 8.07 ms, total: 2min 40s\n",
      "Wall time: 2min 40s\n"
     ]
    }
   ],
   "source": [
    "%%time\n",
    "E_k = zeros(len(ktrue_boundaries)-1)\n",
    "k_values = zeros(len(ktrue_boundaries)-1)\n",
    "for i in range( ktrue_boundaries.shape[0]-1 ):\n",
    "    upper_limit = ktrue_boundaries[i+1]\n",
    "    lower_limit = ktrue_boundaries[i]\n",
    "    \n",
    "    energy, dist = correl_angular_integrator_simple( lower_limit, upper_limit, \n",
    "                                                    kpoints_sphere_r_sorted, E_d_r_sorted )\n",
    "    E_k[i] = energy\n",
    "    k_values[i] = dist"
   ]
  },
  {
   "cell_type": "code",
   "execution_count": 60,
   "metadata": {},
   "outputs": [
    {
     "data": {
      "text/plain": [
       "Text(0,0.5,'E(k)')"
      ]
     },
     "execution_count": 60,
     "metadata": {},
     "output_type": "execute_result"
    },
    {
     "data": {
      "image/png": "[encoded data removed]",
      "text/plain": [
       "<Figure size 800x600 with 1 Axes>"
      ]
     },
     "metadata": {},
     "output_type": "display_data"
    }
   ],
   "source": [
    "plt.figure( figsize=(8,6), dpi=100 )\n",
    "plt.loglog( k_values, E_k, '.')\n",
    "plt.tick_params( axis='both', which='major', labelsize=12 )\n",
    "xlabel('k', fontsize=16)\n",
    "ylabel('E(k)', fontsize=16)\n",
    "# plt.savefig( 'E_k_loglog_pure_whole.png', dpi=100 )"
   ]
  },
  {
   "cell_type": "markdown",
   "metadata": {},
   "source": [
    "#### Writing output to file"
   ]
  },
  {
   "cell_type": "code",
   "execution_count": 61,
   "metadata": {},
   "outputs": [],
   "source": [
    "file = open( 'Energy_spectrum.txt', 'w' ) # create file to write out\n",
    "file.write(\"#k_values\\tE_k_radial\\n\")\n",
    "\n",
    "for i in range( len(k_values) ):\n",
    "    file.write( \"%f %f\\n\" % (k_values[i], E_k[i]) )\n",
    "file.close()"
   ]
  },
  {
   "cell_type": "markdown",
   "metadata": {},
   "source": [
    "#### Code for creating plot with linear fit"
   ]
  },
  {
   "cell_type": "code",
   "execution_count": 62,
   "metadata": {},
   "outputs": [
    {
     "data": {
      "text/plain": [
       "\"f1 = open('Dissipation_log_7.txt', 'r')\\nlog_k_values, log_E_k = np.loadtxt(f1, delimiter=' ', usecols=(0, 1), unpack=True)\""
      ]
     },
     "execution_count": 62,
     "metadata": {},
     "output_type": "execute_result"
    }
   ],
   "source": [
    "\"\"\"f1 = open('Dissipation_log_7.txt', 'r')\n",
    "log_k_values, log_E_k = np.loadtxt(f1, delimiter=' ', usecols=(0, 1), unpack=True)\"\"\""
   ]
  },
  {
   "cell_type": "code",
   "execution_count": 66,
   "metadata": {},
   "outputs": [],
   "source": [
    "filt = np.logical_and( k_values !=0, E_k != 0 )\n",
    "filt2 = np.logical_and( E_k > 0, filt )\n",
    "log_k_values = log10( k_values[ filt2 ] )\n",
    "log_E_k = log10( E_k[ filt2 ] )"
   ]
  },
  {
   "cell_type": "code",
   "execution_count": 244,
   "metadata": {},
   "outputs": [],
   "source": [
    "def linfit( x, a, b ):\n",
    "    return a*x+b\n",
    "\n",
    "cutoff_idx = int(0.05*len(log_k_values))\n",
    "\n",
    "# fitting\n",
    "b = np.logical_and( log_k_values > 0.3, log_k_values < 1.9 )\n",
    "log_k_values[b].shape, log_E_k[b].shape\n",
    "popt, pcov = curve_fit( linfit, log_k_values[b][:cutoff_idx], log_E_k[b][:cutoff_idx] )"
   ]
  },
  {
   "cell_type": "code",
   "execution_count": 245,
   "metadata": {},
   "outputs": [
    {
     "data": {
      "image/png": "[encoded data removed]",
      "text/plain": [
       "<Figure size 800x600 with 1 Axes>"
      ]
     },
     "metadata": {},
     "output_type": "display_data"
    }
   ],
   "source": [
    "plt.figure( figsize=(8,6), dpi=100 )\n",
    "plt.tick_params( axis='both', which='major', labelsize=12 )\n",
    "xlabel('log$_{10}$k', fontsize=16)\n",
    "ylabel('log$_{10}$E(k)', fontsize=16)\n",
    "plt.scatter( log_k_values[:cutoff_idx], log_E_k[:cutoff_idx], s=10, marker='o' )\n",
    "plt.plot( log_k_values[b], popt[0]*log_k_values[b]+popt[1], '-', c='r', \n",
    "         label='Exponent: '+str(round(popt[0], 4) )+'+/-'+str( round( sqrt(pcov[0,0]) , 4) ) )\n",
    "plt.legend( fontsize=12 )\n",
    "plt.savefig( 'Ek_loglog_linfit_512adjacent.png', dpi=100 )"
   ]
  },
  {
   "cell_type": "code",
   "execution_count": null,
   "metadata": {},
   "outputs": [],
   "source": []
  }
 ],
 "metadata": {
  "kernelspec": {
   "display_name": "Python 3",
   "language": "python",
   "name": "python3"
  },
  "language_info": {
   "codemirror_mode": {
    "name": "ipython",
    "version": 3
   },
   "file_extension": ".py",
   "mimetype": "text/x-python",
   "name": "python",
   "nbconvert_exporter": "python",
   "pygments_lexer": "ipython3",
   "version": "3.6.6"
  }
 },
 "nbformat": 4,
 "nbformat_minor": 2
}
